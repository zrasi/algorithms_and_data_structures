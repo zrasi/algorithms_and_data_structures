{
 "cells": [
  {
   "cell_type": "markdown",
   "metadata": {},
   "source": [
    "# Practice Interview\n",
    "\n",
    "## Objective\n",
    "\n",
    "_*The partner assignment aims to provide participants with the opportunity to practice coding in an interview context. You will analyze your partner's Assignment 1. Moreover, code reviews are common practice in a software development team. This assignment should give you a taste of the code review process.*_\n",
    "\n",
    "## Group Size\n",
    "\n",
    "Each group should have 2 people. You will be assigned a partner\n",
    "\n",
    "## Part 1:\n",
    "\n",
    "You and your partner must share each other's Assignment 1 submission."
   ]
  },
  {
   "cell_type": "markdown",
   "metadata": {},
   "source": [
    "\n",
    "## Part 2:\n",
    "\n",
    "Create a Jupyter Notebook, create 6 of the following headings, and complete the following for your partner's assignment 1:\n",
    "\n",
    "-   Paraphrase the problem in your own words.\n"
   ]
  },
  {
   "cell_type": "markdown",
   "metadata": {},
   "source": [
    "# Your answer here\n",
    "The problem is given the root of a binary tree to find and return all paths from the root to the leaves of the tree. Each path should be represented as a list of node values from the root to the respective leaf node."
   ]
  },
  {
   "cell_type": "markdown",
   "metadata": {},
   "source": [
    "\n",
    "-   Create 1 new example that demonstrates you understand the problem. Trace/walkthrough 1 example that your partner made and explain it.\n"
   ]
  },
  {
   "cell_type": "markdown",
   "metadata": {},
   "source": [
    "Input: root = [1, 2, 4, 4, 6, 8, 10]\n",
    "Output: [[1, 2, 4], [1, 2, 6], [1, 4, 8], [1, 4, 10]]\n",
    "\n",
    "                  1\n",
    "                  \n",
    "        2                  4\n",
    "\n",
    "    4       6          8       10"
   ]
  },
  {
   "cell_type": "markdown",
   "metadata": {},
   "source": [
    "\n",
    "-   Copy the solution your partner wrote. \n"
   ]
  },
  {
   "cell_type": "code",
   "execution_count": 1,
   "metadata": {},
   "outputs": [
    {
     "name": "stdout",
     "output_type": "stream",
     "text": [
      "[[1, 2, 3], [1, 2, 5], [1, 2, 6], [1, 2, 7]]\n",
      "[[10, 9, 8], [10, 7]]\n",
      "[[1, 2, 4, 8], [1, 2, 4, 9], [1, 2, 5, 10], [1, 2, 5, 11], [1, 3, 6, 12], [1, 3, 6, 13], [1, 3, 7, 14], [1, 3, 7, 15]]\n",
      "[[1, 2, 4, 5, 6, 7, 8], [1, 3]]\n"
     ]
    }
   ],
   "source": [
    "# Your answer here\n",
    "from typing import List\n",
    "\n",
    "class TreeNode():\n",
    "    \n",
    "    \"\"\"\n",
    "    The TreeNode class is a node of a tree. \n",
    "\n",
    "    Attributes:\n",
    "    'val'    - integer (node value)    \n",
    "    'children' - list of TreeNode objects that are children. The constructor allows for\n",
    "    number of children to be more than two. If we want to restrict the number of children \n",
    "    to 2 (binary tree), a validation can be added to the constructor\n",
    "\n",
    "    Constructor:\n",
    "        __init__(self, val:int = 0, children:List = [])\n",
    "\n",
    "    Methods:        \n",
    "        dfs_paths_to_leaves(self) -> List[List[int]]\n",
    "    \"\"\"\n",
    "\n",
    "    def __init__(self, val:int = 0, children:List = []):\n",
    "        self.val = val        \n",
    "        self.children = children\n",
    "        \n",
    "        \n",
    "    # The 'paths' variable is the main list that contains the lists of paths to the leaf. It is the\n",
    "    # return value of this function. The individual paths are constructed from self (eg: root) to \n",
    "    # its leaves.\n",
    "    def dfs_paths_to_leaves(self) -> List[List[int]]:\n",
    "        \n",
    "        paths = []\n",
    "    \n",
    "        # Helper function to construct each path from self until its leaves.\n",
    "        # Append val into path. As soon as you reach a node that has no children,  \n",
    "        # append the invidual path to 'paths'\n",
    "        def dfs(node, path):\n",
    "            path.append(node.val)\n",
    "            \n",
    "            # If you get to node with no children, you have reached leaf. \n",
    "            # Append individual path to the paths\n",
    "            if not node.children:\n",
    "                paths.append(path)\n",
    "                            # Recursively traverse each child node for path\n",
    "            for child in node.children:                \n",
    "                dfs(child, path[:])\n",
    "                \n",
    "        \n",
    "        dfs(self, [])  # Start DFS from the current node (self)\n",
    "        return paths         \n",
    "\n",
    "# testing example 1\n",
    "root = TreeNode(1, \n",
    "                   [TreeNode(2,  \n",
    "                                [TreeNode(3), TreeNode(5)]), \n",
    "                    TreeNode(2, \n",
    "                                [TreeNode(6), TreeNode(7)])\n",
    "                    ]\n",
    "                ) \n",
    "paths = root.dfs_paths_to_leaves()\n",
    "print(paths)\n",
    "\n",
    "# testing example 2\n",
    "root = TreeNode(10, \n",
    "                    [TreeNode(9,  \n",
    "                                [TreeNode(8)]), \n",
    "                     TreeNode(7)]\n",
    "        )  \n",
    "paths = root.dfs_paths_to_leaves()\n",
    "print(paths)\n",
    "\n",
    "# testing example 3\n",
    "root = TreeNode(1, \n",
    "                [TreeNode(2, [TreeNode(4,\n",
    "                                        [TreeNode(8), TreeNode(9)]),\n",
    "                              TreeNode(5, \n",
    "                                        [TreeNode(10), TreeNode(11)])]), \n",
    "                 TreeNode(3, [TreeNode(6, \n",
    "                                        [TreeNode(12), TreeNode(13)]), \n",
    "                              TreeNode(7, \n",
    "                                        [TreeNode(14), TreeNode(15)])])]) \n",
    "paths = root.dfs_paths_to_leaves()\n",
    "print(paths)\n",
    "# testing example 4\n",
    "root = TreeNode(1, \n",
    "                [TreeNode(2, \n",
    "                          [TreeNode(4, \n",
    "                                      [TreeNode(5, \n",
    "                                                  [TreeNode(6, \n",
    "                                                               [TreeNode(7, \n",
    "                                                                           [TreeNode(8)])])])])]\n",
    "                          ), \n",
    "                 TreeNode(3)])\n",
    "paths = root.dfs_paths_to_leaves()\n",
    "print(paths)\n",
    "#help(root)\n"
   ]
  },
  {
   "cell_type": "markdown",
   "metadata": {},
   "source": [
    "\n",
    "-   Explain why their solution works in your own words.\n"
   ]
  },
  {
   "cell_type": "markdown",
   "metadata": {},
   "source": [
    "# Your answer here\n",
    "This solution works correctly because:\n",
    "DFS Approach: It correctly utilizes DFS to explore all possible paths from the root to the leaf nodes of the tree.\n",
    "Handling Leaf Nodes: It correctly identifies leaf nodes by checking if 'node.children' is empty and appends the current 'path' to 'paths' when a leaf node is reached.\n",
    "Path Management: It manages the paths using a list 'path', which is passed recursively and updated appropriately as nodes traversed."
   ]
  },
  {
   "cell_type": "markdown",
   "metadata": {},
   "source": [
    "\n",
    "-   Explain the problem’s time and space complexity in your own words.\n"
   ]
  },
  {
   "cell_type": "markdown",
   "metadata": {},
   "source": [
    "# Your answer here\n",
    "Time complexity of the algorithm depends on how many nodes and edges are there in the binary tree. The overall time complexity is O(n.h), where n is the number of nodes and h is the height of the tree. This is because for each path (up to n paths), we may potentially copy a path of up to h nodes.\n",
    "\n",
    "Space complexity mainly depends on the recursion stack space used during DFS and the space used to store the paths, and therefore it is O(n.h)."
   ]
  },
  {
   "cell_type": "markdown",
   "metadata": {},
   "source": [
    "\n",
    "-   Critique your partner's solution, including explanation, and if there is anything that should be adjusted.\n"
   ]
  },
  {
   "cell_type": "markdown",
   "metadata": {},
   "source": [
    "# Your answer here\n",
    "Overall, the solution effectively demostrates how to find all root-to-leaf paths in a tree using DFS and it suitable for many tree structures, including those with more than two children per node. However, there are a few considerations for improvement:\n",
    "Default Argument in Constructor: Using 'children: List = []' as a default argument in the constructor can lead to unintended shared references across instances. It;s safer to set it to 'None' and initialize it inside the constructor.\n",
    "Clarity in Recursive Function: In the method 'dfs_paths_leaves', there's a recursive function 'dfs' that uses 'path[:]' to pass a copy of the path to each call of 'dfs'. The issue is that the use of 'path[:]' might not be immediately clear to someone reading the code for the first time. Adding a comment can clarify the purpose of 'path[:]', making it easier to understand why the code is necessary by stating that it is used to avoid sharing state between different recursive paths, and makes the intent of the code clearer."
   ]
  },
  {
   "cell_type": "markdown",
   "metadata": {},
   "source": [
    "\n",
    "## Part 3:\n",
    "\n",
    "Please write a 200 word reflection documenting your process from assignment 1, and your presentation and review experience with your partner at the bottom of the Jupyter Notebook under a new heading \"Reflection.\" Again, export this Notebook as pdf.\n"
   ]
  },
  {
   "cell_type": "markdown",
   "metadata": {},
   "source": [
    "### Reflection"
   ]
  },
  {
   "cell_type": "markdown",
   "metadata": {},
   "source": [
    "During the assignment, I tackled the problem of finding missing numbers in a specified range using Python. Initially, I employed set operations to efficiently identify and collect missing integers between 0 and the maximum value in the given list. The solution utilized a set to store the numbers from the list and compared it against a full set of expected numbers to find missing elements. I then optimized the approach by iterating directly through the range and checking each number's presence in the set, ensuring all missing numbers were accurately identified.\n",
    "\n",
    "In reviewing my classmate's code for finding paths from a root to leaf nodes in a binary tree, I focused on clarity and efficiency. The solution effectively used depth-first search (DFS) to traverse the tree and collect paths, ensuring paths were correctly copied and stored without shared references. Recommendations included clarifying the purpose of path copying and avoiding default mutable arguments in constructors for robustness.\n",
    "\n",
    "Overall, the assignment and code review underscored the importance of clarity, efficiency, and thoughtful design in algorithmic solutions, reinforcing skills in problem-solving and code optimization in Python."
   ]
  },
  {
   "cell_type": "markdown",
   "metadata": {},
   "source": [
    "\n",
    "## Evaluation Criteria\n",
    "\n",
    "We are looking for the similar points as Assignment 1\n",
    "\n",
    "-   Problem is accurately stated\n",
    "\n",
    "-   New example is correct and easily understandable\n",
    "\n",
    "-   Correctness, time, and space complexity of the coding solution\n",
    "\n",
    "-   Clarity in explaining why the solution works, its time and space complexity\n",
    "\n",
    "-   Quality of critique of your partner's assignment, if necessary\n"
   ]
  },
  {
   "cell_type": "markdown",
   "metadata": {},
   "source": [
    "## Submission Information\n",
    "\n",
    "🚨 **Please review our [Assignment Submission Guide](https://github.com/UofT-DSI/onboarding/blob/main/onboarding_documents/submissions.md)** 🚨 for detailed instructions on how to format, branch, and submit your work. Following these guidelines is crucial for your submissions to be evaluated correctly.\n",
    "\n",
    "### Submission Parameters:\n",
    "* Submission Due Date: `HH:MM AM/PM - DD/MM/YYYY`\n",
    "* The branch name for your repo should be: `assignment-2`\n",
    "* What to submit for this assignment:\n",
    "    * This Jupyter Notebook (assignment_2.ipynb) should be populated and should be the only change in your pull request.\n",
    "* What the pull request link should look like for this assignment: `https://github.com/<your_github_username>/algorithms_and_data_structures/pull/<pr_id>`\n",
    "    * Open a private window in your browser. Copy and paste the link to your pull request into the address bar. Make sure you can see your pull request properly. This helps the technical facilitator and learning support staff review your submission easily.\n",
    "\n",
    "Checklist:\n",
    "- [ ] Created a branch with the correct naming convention.\n",
    "- [ ] Ensured that the repository is public.\n",
    "- [ ] Reviewed the PR description guidelines and adhered to them.\n",
    "- [ ] Verify that the link is accessible in a private browser window.\n",
    "\n",
    "If you encounter any difficulties or have questions, please don't hesitate to reach out to our team via our Slack at `#cohort-3-help`. Our Technical Facilitators and Learning Support staff are here to help you navigate any challenges.\n"
   ]
  }
 ],
 "metadata": {
  "kernelspec": {
   "display_name": "dsi_participant",
   "language": "python",
   "name": "python3"
  },
  "language_info": {
   "codemirror_mode": {
    "name": "ipython",
    "version": 3
   },
   "file_extension": ".py",
   "mimetype": "text/x-python",
   "name": "python",
   "nbconvert_exporter": "python",
   "pygments_lexer": "ipython3",
   "version": "3.9.15"
  }
 },
 "nbformat": 4,
 "nbformat_minor": 2
}
